{
 "cells": [
  {
   "cell_type": "code",
   "execution_count": 1,
   "metadata": {},
   "outputs": [],
   "source": [
    "import sys\n",
    "sys.path.append(\"..\")\n",
    "from IPython.display import display"
   ]
  },
  {
   "cell_type": "code",
   "execution_count": 2,
   "metadata": {},
   "outputs": [],
   "source": [
    "import numpy as np\n",
    "import logging\n",
    "import pickle\n",
    "import time\n",
    "import importlib \n",
    "import copy\n",
    "import os"
   ]
  },
  {
   "cell_type": "code",
   "execution_count": 3,
   "metadata": {},
   "outputs": [],
   "source": [
    "%matplotlib inline\n",
    "import matplotlib.pyplot as plt\n",
    "plt.rcParams[\"figure.figsize\"] = (8, 8)\n",
    "\n",
    "import matplotlib as mpl\n",
    "from matplotlib import rcParams\n",
    "from matplotlib.colors import Normalize\n",
    "import matplotlib.cm as cm\n",
    "from matplotlib.colors import LogNorm\n",
    "from matplotlib import ticker\n",
    "from matplotlib import colors\n",
    "from matplotlib.patches import Ellipse\n",
    "from matplotlib import gridspec\n",
    "\n"
   ]
  },
  {
   "cell_type": "code",
   "execution_count": 4,
   "metadata": {},
   "outputs": [],
   "source": [
    "from scripts import reclusterTree_invM as reclusterTree\n",
    "from scripts import linkageList\n",
    "from scripts import heatClustermap\n",
    "# from scripts import Tree1D_invM as Tree1D\n",
    "from scripts import likelihood_invM as likelihood\n",
    "# from scripts import beamsearchTJS\n",
    "from scripts import N2Greedy_invM as N2Greedy\n",
    "# from scripts import beamSearch as bs\n",
    "from scripts import beamSearchOptimal_invM  as BSO\n",
    "from scripts import jetClustering_invM as jetClustering\n",
    "from scripts.utils import get_logger\n",
    "from scripts import auxFunctions_invM as auxFunctions "
   ]
  },
  {
   "cell_type": "code",
   "execution_count": 5,
   "metadata": {},
   "outputs": [],
   "source": [
    "logger = get_logger(level=logging.INFO)"
   ]
  },
  {
   "cell_type": "code",
   "execution_count": 6,
   "metadata": {},
   "outputs": [],
   "source": [
    "plotDir =\"../hierarchical-trellis/src/plots/\""
   ]
  },
  {
   "cell_type": "code",
   "execution_count": 7,
   "metadata": {},
   "outputs": [
    {
     "data": {
      "text/plain": [
       "<module 'scripts.auxFunctions_invM' from '/Users/sebastianmacaluso/Dropbox/Documents/Physics_projects/simulator/TreeAlgorithms/scripts/auxFunctions_invM.py'>"
      ]
     },
     "execution_count": 7,
     "metadata": {},
     "output_type": "execute_result"
    }
   ],
   "source": [
    "\"\"\"Reload filles after changes\"\"\"\n",
    "importlib.reload(reclusterTree)\n",
    "importlib.reload(linkageList)\n",
    "importlib.reload(heatClustermap)\n",
    "# importlib.reload(Tree1D)\n",
    "importlib.reload(likelihood)\n",
    "importlib.reload(N2Greedy)\n",
    "# importlib.reload(bs)\n",
    "importlib.reload(BSO)\n",
    "importlib.reload(jetClustering)\n",
    "importlib.reload(auxFunctions)"
   ]
  },
  {
   "cell_type": "markdown",
   "metadata": {},
   "source": [
    "# CLUSTERING ALGORITHMS TESTED ON JETS GENERATED WITH THE TOY GENERATIVE MODEL "
   ]
  },
  {
   "cell_type": "code",
   "execution_count": null,
   "metadata": {},
   "outputs": [],
   "source": []
  },
  {
   "cell_type": "markdown",
   "metadata": {},
   "source": [
    "## ANALYSIS"
   ]
  },
  {
   "cell_type": "markdown",
   "metadata": {},
   "source": [
    "Load truth and reclustered jets "
   ]
  },
  {
   "cell_type": "markdown",
   "metadata": {},
   "source": [
    "Format: [\"QCDjets\", \"Wjets\"]\n",
    "All the lists will have \"QCDjet\" quantities on the 1st entry and \"Wjet\" ones on the 2nd entry."
   ]
  },
  {
   "cell_type": "code",
   "execution_count": 8,
   "metadata": {},
   "outputs": [],
   "source": [
    "multipleBSjets = False\n",
    "keepAllBSjets = False"
   ]
  },
  {
   "cell_type": "code",
   "execution_count": 9,
   "metadata": {},
   "outputs": [],
   "source": [
    "# jetLabels = [\"Wjets\",\"TrellisMw300\",\"TrellisMw01\"]\n",
    "# jetLabels = [\"TrellisMw300\",\"TrellisMw01\",\"TrellisMw01B\"]\n",
    "# jetLabels = [\"9_leaves\"]\n",
    "# jetLabels = [\"9_leaves_train20000\"]\n",
    "# jetLabels = [\"50_leaves_test\"]\n",
    "jetLabels = [\"9_leaves_train30000\"]\n",
    "truthDict = {}\n",
    "GreedyDict ={}\n",
    "BSODict = {}"
   ]
  },
  {
   "cell_type": "code",
   "execution_count": 10,
   "metadata": {},
   "outputs": [],
   "source": [
    "Nstart = 0\n",
    "Nend = 300\n",
    "N_jets = 100"
   ]
  },
  {
   "cell_type": "code",
   "execution_count": 11,
   "metadata": {},
   "outputs": [
    {
     "name": "stderr",
     "output_type": "stream",
     "text": [
      "2020-08-20 12:24:33,273:INFO:: TOTAL TIME = 26.023306131362915\n"
     ]
    }
   ],
   "source": [
    "# jetType=\"Trellis\"\n",
    "# jetType = \"9_leaves_train20000\"\n",
    "# jetType = \"50_leaves_all25000\"\n",
    "jetType = \"9_leaves_train30000\"\n",
    "truthDict[jetType]  = jetClustering.appendTruthJets(Nstart, Nend, N_jets, truth = True, jetType = jetType)\n",
    "GreedyDict[jetType]  = jetClustering.appendJets(Nstart, Nend, N_jets, BS = False, Greedy = True, jetType = jetType)\n",
    "BSODict[jetType]  = jetClustering.appendJets(Nstart, Nend, N_jets, BS = True, Greedy = False, jetType = jetType)"
   ]
  },
  {
   "cell_type": "code",
   "execution_count": 11,
   "metadata": {},
   "outputs": [
    {
     "data": {
      "text/plain": [
       "99"
      ]
     },
     "execution_count": 11,
     "metadata": {},
     "output_type": "execute_result"
    }
   ],
   "source": [
    "len(truthDict[jetType][\"jetsList\"][0][0][\"logLH\"])"
   ]
  },
  {
   "cell_type": "code",
   "execution_count": null,
   "metadata": {},
   "outputs": [],
   "source": []
  },
  {
   "cell_type": "code",
   "execution_count": null,
   "metadata": {},
   "outputs": [],
   "source": []
  },
  {
   "cell_type": "code",
   "execution_count": 14,
   "metadata": {},
   "outputs": [
    {
     "data": {
      "text/plain": [
       "99"
      ]
     },
     "execution_count": 14,
     "metadata": {},
     "output_type": "execute_result"
    }
   ],
   "source": [
    "len(GreedyDict[jetType][\"jetsList\"][0][0][\"logLH\"])"
   ]
  },
  {
   "cell_type": "code",
   "execution_count": 15,
   "metadata": {},
   "outputs": [
    {
     "data": {
      "text/plain": [
       "array([-14.42163266,  -9.98610523,  -5.71830054,  -3.15454862,\n",
       "         0.        ,  -1.79689411,   0.        ,  -2.81662562,\n",
       "         0.        ,   0.        ,  -2.34343672,   0.        ,\n",
       "        -3.32218934,   0.        ,   0.        ,  -7.70960616,\n",
       "        -3.88106919,  -2.78166094,   0.        ,  -2.2621424 ,\n",
       "         0.        ,  -1.76899686,   0.        ,  -1.12320289,\n",
       "         0.        ,  -0.62193544,   0.        ,  -2.53275602,\n",
       "         0.        ,   0.        ,  -1.25052321,   0.        ,\n",
       "        -3.03255347,   0.        ,   0.        ,  -4.82174802,\n",
       "         0.        ,  -4.21622509,   0.        ,  -3.27699393,\n",
       "         0.        ,  -2.61505863,   0.        ,  -1.78855785,\n",
       "         0.        ,  -1.48317748,   0.        ,  -0.68526281,\n",
       "         0.        ,  -2.53586546,   0.        ,   0.        ,\n",
       "       -11.00818233,  -7.03719053,  -4.7654889 ,   0.        ,\n",
       "        -2.57789   ,   0.        ,  -1.38080748,   0.        ,\n",
       "        -2.93915063,   0.        ,   0.        ,  -5.6007972 ,\n",
       "         0.        ,  -3.65781608,   0.        ,  -2.53071137,\n",
       "         0.        ,  -2.12310631,   0.        ,  -1.72567339,\n",
       "         0.        ,  -1.29780225,   0.        ,  -1.005125  ,\n",
       "         0.        ,  -0.61927596,   0.        ,  -2.53174916,\n",
       "         0.        ,   0.        ,  -7.3313541 ,   0.        ,\n",
       "        -4.82321584,  -1.95320929,   0.        ,  -2.69273109,\n",
       "         0.        ,   0.        ,  -3.04155691,   0.        ,\n",
       "        -2.19405246,   0.        ,  -1.09634805,   0.        ,\n",
       "        -2.6859679 ,   0.        ,   0.        ])"
      ]
     },
     "execution_count": 15,
     "metadata": {},
     "output_type": "execute_result"
    }
   ],
   "source": [
    "GreedyDict[jetType][\"jetsList\"][0][18][\"logLH\"]"
   ]
  },
  {
   "cell_type": "code",
   "execution_count": 16,
   "metadata": {},
   "outputs": [
    {
     "data": {
      "text/plain": [
       "50"
      ]
     },
     "execution_count": 16,
     "metadata": {},
     "output_type": "execute_result"
    }
   ],
   "source": [
    "len(GreedyDict[jetType][\"jetsList\"])"
   ]
  },
  {
   "cell_type": "code",
   "execution_count": 18,
   "metadata": {},
   "outputs": [],
   "source": [
    "lhTuples = [(i,np.sum(GreedyDict[jetType][\"jetsList\"][1][i][\"logLH\"])) for i in range(len(GreedyDict[jetType][\"jetsList\"][1]))]"
   ]
  },
  {
   "cell_type": "code",
   "execution_count": 25,
   "metadata": {},
   "outputs": [],
   "source": [
    "# [sorted(lhTuples, key=lambda x: x[1]) for i in range(len(lhTuples))]"
   ]
  },
  {
   "cell_type": "code",
   "execution_count": 16,
   "metadata": {},
   "outputs": [
    {
     "data": {
      "text/plain": [
       "1"
      ]
     },
     "execution_count": 16,
     "metadata": {},
     "output_type": "execute_result"
    }
   ],
   "source": [
    "len(GreedyDict[\"Trellis\"])"
   ]
  },
  {
   "cell_type": "code",
   "execution_count": 12,
   "metadata": {},
   "outputs": [],
   "source": [
    "truth_dic2 = {}\n",
    "Greedy_dic2 = {}\n",
    "BSO_dic2 = {}\n"
   ]
  },
  {
   "cell_type": "code",
   "execution_count": 13,
   "metadata": {},
   "outputs": [],
   "source": [
    "for label in jetLabels:\n",
    "    truth_dic2[label], Greedy_dic2[label],  BSO_dic2[label], NGreedyFail, NBSFail =  jetClustering.logLHCut(truthDict[jetType], GreedyDict[jetType] , BSODict[jetType], BSTrellis=multipleBSjets )"
   ]
  },
  {
   "cell_type": "code",
   "execution_count": 19,
   "metadata": {},
   "outputs": [],
   "source": [
    "label = jetLabels[0]"
   ]
  },
  {
   "cell_type": "code",
   "execution_count": 21,
   "metadata": {},
   "outputs": [
    {
     "data": {
      "text/plain": [
       "20"
      ]
     },
     "execution_count": 21,
     "metadata": {},
     "output_type": "execute_result"
    }
   ],
   "source": [
    "len(BSO_dic2[label][\"jetsList\"][0][0])"
   ]
  },
  {
   "cell_type": "code",
   "execution_count": 33,
   "metadata": {},
   "outputs": [
    {
     "data": {
      "text/plain": [
       "(0, 0)"
      ]
     },
     "execution_count": 33,
     "metadata": {},
     "output_type": "execute_result"
    }
   ],
   "source": [
    "NGreedyFail, NBSFail"
   ]
  },
  {
   "cell_type": "code",
   "execution_count": 34,
   "metadata": {},
   "outputs": [
    {
     "data": {
      "text/plain": [
       "50"
      ]
     },
     "execution_count": 34,
     "metadata": {},
     "output_type": "execute_result"
    }
   ],
   "source": [
    "len(Greedy_dic2[jetType][\"jetsList\"])"
   ]
  },
  {
   "cell_type": "code",
   "execution_count": 14,
   "metadata": {},
   "outputs": [],
   "source": [
    "truth_dic = {}\n",
    "Greedy_dic = {}\n",
    "BSO_dic = {}"
   ]
  },
  {
   "cell_type": "code",
   "execution_count": 15,
   "metadata": {},
   "outputs": [
    {
     "data": {
      "text/plain": [
       "<module 'scripts.auxFunctions_invM' from '/Users/sebastianmacaluso/Dropbox/Documents/Physics_projects/simulator/TreeAlgorithms/scripts/auxFunctions_invM.py'>"
      ]
     },
     "execution_count": 15,
     "metadata": {},
     "output_type": "execute_result"
    }
   ],
   "source": [
    "importlib.reload(auxFunctions)"
   ]
  },
  {
   "cell_type": "code",
   "execution_count": 16,
   "metadata": {},
   "outputs": [
    {
     "name": "stdout",
     "output_type": "stream",
     "text": [
      "len(Dic[jetsList]) =  300\n",
      "len(Dic[jetsList]) =  300\n",
      "len(Dic[jetsList]) =  300\n"
     ]
    }
   ],
   "source": [
    "jetsperSet = 100\n",
    "for label in jetLabels:\n",
    "    truth_dic[label] =auxFunctions.jetsLogLH(Nstart,Nend, truth_dic2[label],jetsperSet ,rerunLH=False)\n",
    "    Greedy_dic[label]  =auxFunctions.jetsLogLH(Nstart,Nend, Greedy_dic2[label] ,jetsperSet ,rerunLH=False)\n",
    "    BSO_dic[label]  =auxFunctions.jetsLogLH(Nstart,Nend, BSO_dic2[label], jetsperSet  ,rerunLH=False, BSTrellis = multipleBSjets, keepJets = keepAllBSjets)"
   ]
  },
  {
   "cell_type": "code",
   "execution_count": 17,
   "metadata": {},
   "outputs": [
    {
     "data": {
      "text/plain": [
       "30000"
      ]
     },
     "execution_count": 17,
     "metadata": {},
     "output_type": "execute_result"
    }
   ],
   "source": [
    "len(BSO_dic[label][\"jetsList\"])"
   ]
  },
  {
   "cell_type": "code",
   "execution_count": 31,
   "metadata": {},
   "outputs": [],
   "source": [
    "# BSO_dic[label][\"jetsList\"][0]"
   ]
  },
  {
   "cell_type": "code",
   "execution_count": 18,
   "metadata": {},
   "outputs": [
    {
     "name": "stdout",
     "output_type": "stream",
     "text": [
      "9_leaves_train30000\n",
      " Truth mean logLH =  nan $\\pm$ nan\n",
      " Greedy mean logLH = nan $\\pm$ nan\n",
      " Beam Search mean logLH = nan $\\pm$ nan\n",
      "---------------\n"
     ]
    }
   ],
   "source": [
    "for label in jetLabels:\n",
    "    print(label)\n",
    "    print(\" Truth mean logLH =  %0.1f $\\pm$ %0.1f\" %(np.average(truth_dic[label][\"avgLogLH\"]),  truth_dic[label][\"sigma\"]))\n",
    "    print(\" Greedy mean logLH = %0.1f $\\pm$ %0.1f\" %(np.average(Greedy_dic[label][\"avgLogLH\"]),  Greedy_dic[label][\"sigma\"]))\n",
    "    print(\" Beam Search mean logLH = %0.1f $\\pm$ %0.1f\" %(np.average(BSO_dic[label][\"avgLogLH\"]),  BSO_dic[label][\"sigma\"]))\n",
    "    print(\"---\"*5)"
   ]
  },
  {
   "cell_type": "code",
   "execution_count": 29,
   "metadata": {},
   "outputs": [
    {
     "ename": "NameError",
     "evalue": "name 'BS_jet' is not defined",
     "output_type": "error",
     "traceback": [
      "\u001b[0;31m---------------------------------------------------------------------------\u001b[0m",
      "\u001b[0;31mNameError\u001b[0m                                 Traceback (most recent call last)",
      "\u001b[0;32m<ipython-input-29-9a4caee78d1b>\u001b[0m in \u001b[0;36m<module>\u001b[0;34m\u001b[0m\n\u001b[1;32m      1\u001b[0m \u001b[0;32mfor\u001b[0m \u001b[0mjetList\u001b[0m \u001b[0;32min\u001b[0m \u001b[0mBSO_dic\u001b[0m\u001b[0;34m[\u001b[0m\u001b[0mlabel\u001b[0m\u001b[0;34m]\u001b[0m\u001b[0;34m[\u001b[0m\u001b[0;34m\"jetsList\"\u001b[0m\u001b[0;34m]\u001b[0m\u001b[0;34m:\u001b[0m\u001b[0;34m\u001b[0m\u001b[0;34m\u001b[0m\u001b[0m\n\u001b[0;32m----> 2\u001b[0;31m         \u001b[0mBS_jet\u001b[0m\u001b[0;34m[\u001b[0m\u001b[0;34m\"sumlogLH\"\u001b[0m\u001b[0;34m]\u001b[0m \u001b[0;34m=\u001b[0m \u001b[0msum\u001b[0m\u001b[0;34m(\u001b[0m\u001b[0mBS_jet\u001b[0m\u001b[0;34m[\u001b[0m\u001b[0;34m'logLH'\u001b[0m\u001b[0;34m]\u001b[0m\u001b[0;34m)\u001b[0m\u001b[0;34m\u001b[0m\u001b[0;34m\u001b[0m\u001b[0m\n\u001b[0m\u001b[1;32m      3\u001b[0m \u001b[0;34m\u001b[0m\u001b[0m\n",
      "\u001b[0;31mNameError\u001b[0m: name 'BS_jet' is not defined"
     ]
    }
   ],
   "source": [
    "\n",
    "for jetList in BSO_dic[label][\"jetsList\"]: \n",
    "        BS_jet[\"sumlogLH\"] = sum(BS_jet['logLH'])\n",
    "        "
   ]
  },
  {
   "cell_type": "code",
   "execution_count": 22,
   "metadata": {},
   "outputs": [
    {
     "data": {
      "text/plain": [
       "20000"
      ]
     },
     "execution_count": 22,
     "metadata": {},
     "output_type": "execute_result"
    }
   ],
   "source": [
    "len(BSO_dic[jetType][\"jetsList\"])"
   ]
  },
  {
   "cell_type": "code",
   "execution_count": 49,
   "metadata": {},
   "outputs": [],
   "source": [
    "# BS_jet_MLE = []\n",
    "# for jets in BSO_dic[jetType][\"jetsList\"]:\n",
    "#     BS_jet_MLE+=[jets[0]]"
   ]
  },
  {
   "cell_type": "code",
   "execution_count": 87,
   "metadata": {},
   "outputs": [],
   "source": [
    "# if not keepAllBSjets:\n",
    "#     BSO_dic[jetType][\"jetsList\"] = BS_jet_MLE"
   ]
  },
  {
   "cell_type": "code",
   "execution_count": 12,
   "metadata": {},
   "outputs": [],
   "source": [
    "jetLabels = [\"50_leaves_train20000\"]"
   ]
  },
  {
   "cell_type": "markdown",
   "metadata": {},
   "source": [
    "### Save Truth"
   ]
  },
  {
   "cell_type": "code",
   "execution_count": 33,
   "metadata": {},
   "outputs": [],
   "source": [
    "save=False\n",
    "# outdir = \"../hierarchical-trellis/src/data/invMassGinkgo/\"\n",
    "outdir = \"/Users/sebastianmacaluso/Documents/PrinceData/invMassGinkgo/\"\n",
    "Nmax = 2000\n",
    "if save:\n",
    "    for label in jetLabels:\n",
    "        if keepAllBSjets:\n",
    "            out_filename = os.path.join(outdir, \"TruthBSGreedy_\"+label+\"_\"+str(Nmax)+\"_jets.pkl\")\n",
    "        else:\n",
    "#             out_filename = os.path.join(outdir, \"TruthBSmaxGreedy_\"+label+\".pkl\")\n",
    "            out_filename = os.path.join(outdir, \"BS_\"+label+\".pkl\")\n",
    "                \n",
    "        with open(out_filename, \"wb\") as f:\n",
    "            pickle.dump(BSO_dic[label][\"jetsList\"], f, protocol=2)\n",
    "#             pickle.dump(( truth_dic[label][\"jetsList\"][0:Nmax], BSO_dic[label][\"jetsList\"][0:Nmax],Greedy_dic[label][\"jetsList\"][0:Nmax]), f, protocol=2)"
   ]
  },
  {
   "cell_type": "markdown",
   "metadata": {},
   "source": [
    "### Save all"
   ]
  },
  {
   "cell_type": "code",
   "execution_count": 19,
   "metadata": {},
   "outputs": [],
   "source": [
    "save=True\n",
    "# outdir = \"../hierarchical-trellis/src/data/invMassGinkgo/\"\n",
    "outdir = \"/Users/sebastianmacaluso/Documents/PrinceData/invMassGinkgo/\"\n",
    "Nmax = 2000\n",
    "if save:\n",
    "    for label in jetLabels:\n",
    "        if keepAllBSjets:\n",
    "            out_filename = os.path.join(outdir, \"TruthBSGreedy_\"+label+\"_\"+str(Nmax)+\"_jets.pkl\")\n",
    "        else:\n",
    "            out_filename = os.path.join(outdir, \"TruthBSmaxGreedy_\"+label+\".pkl\")\n",
    "            \n",
    "                \n",
    "        with open(out_filename, \"wb\") as f:\n",
    "            pickle.dump(( truth_dic[label][\"jetsList\"], BSO_dic[label][\"jetsList\"],Greedy_dic[label][\"jetsList\"]), f, protocol=2)\n",
    "#             pickle.dump(( truth_dic[label][\"jetsList\"][0:Nmax], BSO_dic[label][\"jetsList\"][0:Nmax],Greedy_dic[label][\"jetsList\"][0:Nmax]), f, protocol=2)"
   ]
  },
  {
   "cell_type": "code",
   "execution_count": null,
   "metadata": {},
   "outputs": [],
   "source": []
  },
  {
   "cell_type": "code",
   "execution_count": 11,
   "metadata": {},
   "outputs": [
    {
     "data": {
      "text/plain": [
       "5000"
      ]
     },
     "execution_count": 11,
     "metadata": {},
     "output_type": "execute_result"
    }
   ],
   "source": [
    "len(np.asarray(GreedyDict[\"Trellis\"][\"jetsList\"]).flatten())"
   ]
  },
  {
   "cell_type": "code",
   "execution_count": 15,
   "metadata": {},
   "outputs": [],
   "source": [
    "# with open(dicsDir + \"jetDicts\"+str(N_jets) + \"Mw.pkl\", \"rb\") as fd:\n",
    "#     truthDict, GreedyDict,BSODict = pickle.load(fd, encoding='latin-1')"
   ]
  },
  {
   "cell_type": "code",
   "execution_count": 55,
   "metadata": {},
   "outputs": [],
   "source": [
    "computeDijAngles = False\n",
    "if computeDijAngles:\n",
    "    truthDict = auxFunctions.scanJets(truthDict, dijmetrics=False,  angles=True)\n",
    "    GreedyDict = auxFunctions.scanJets(GreedyDict, dijmetrics=False,  angles=True)\n",
    "    BSODict = auxFunctions.scanJets(BSODict, dijmetrics=False,  angles=True)"
   ]
  },
  {
   "cell_type": "code",
   "execution_count": 12,
   "metadata": {},
   "outputs": [],
   "source": [
    "for jetType in jetLabels:\n",
    "    truthDict[jetType][\"Nconst\"] = [len(jet[\"leaves\"]) for jet in np.asarray(truthDict[jetType][\"jetsList\"]).flatten()]"
   ]
  },
  {
   "cell_type": "code",
   "execution_count": 13,
   "metadata": {},
   "outputs": [
    {
     "data": {
      "image/png": "[encoded data removed]",
      "text/plain": [
       "<Figure size 720x360 with 2 Axes>"
      ]
     },
     "metadata": {
      "needs_background": "light"
     },
     "output_type": "display_data"
    }
   ],
   "source": [
    "\n",
    "\"\"\" Number of constituents\"\"\"\n",
    "auxFunctions.algoHist(truthDict, jetLabels = jetLabels,bins = 20,  fixedJetP = False, xLabel = \"# of leaves per tree\", yLabel = \" # of trees\", variable = \"Nconst\")"
   ]
  },
  {
   "cell_type": "code",
   "execution_count": null,
   "metadata": {},
   "outputs": [],
   "source": []
  },
  {
   "cell_type": "markdown",
   "metadata": {},
   "source": [
    "### Rerun Beam Search to keep all the jets in the beam"
   ]
  },
  {
   "cell_type": "code",
   "execution_count": 10,
   "metadata": {},
   "outputs": [],
   "source": [
    "def load_jets(filename):\n",
    "    root_dir  = \"../hierarchical-trellis/src/data/invMassGinkgo/\"\n",
    "    filename = os.path.join(root_dir, filename)\n",
    "    with open(filename + \".pkl\", \"rb\") as fd:\n",
    "        Truth, BS, Greedy = pickle.load(fd, encoding='latin-1')\n",
    "    return Truth, BS, Greedy"
   ]
  },
  {
   "cell_type": "code",
   "execution_count": 11,
   "metadata": {},
   "outputs": [],
   "source": [
    "gt_jets, bs_jets, greedy_jets = load_jets(\"TruthBSGreedy_Trellis\")"
   ]
  },
  {
   "cell_type": "code",
   "execution_count": 19,
   "metadata": {},
   "outputs": [],
   "source": [
    "BSO_jetsList = [] \n",
    "for truth_jet in gt_jets:\n",
    "\n",
    "    N = len(truth_jet[\"leaves\"])\n",
    "    Nbest =min(3 * N, np.asarray(N * (N - 1) / 2).astype(int))\n",
    "    \n",
    "    BSO_jetsList.append(BSO.recluster(\n",
    "            truth_jet,\n",
    "            beamSize=Nbest,\n",
    "            delta_min=truth_jet[\"pt_cut\"],\n",
    "            lam=float(truth_jet[\"Lambda\"]),\n",
    "            N_best=Nbest,\n",
    "            visualize = True,\n",
    "        ))\n",
    "\n"
   ]
  },
  {
   "cell_type": "code",
   "execution_count": 28,
   "metadata": {},
   "outputs": [
    {
     "data": {
      "text/plain": [
       "-46.95396350233846"
      ]
     },
     "execution_count": 28,
     "metadata": {},
     "output_type": "execute_result"
    }
   ],
   "source": [
    "bs_jets[1][\"sumlogLH\"]"
   ]
  },
  {
   "cell_type": "code",
   "execution_count": 32,
   "metadata": {},
   "outputs": [
    {
     "data": {
      "text/plain": [
       "5000"
      ]
     },
     "execution_count": 32,
     "metadata": {},
     "output_type": "execute_result"
    }
   ],
   "source": [
    "len(BSO_jetsList)"
   ]
  },
  {
   "cell_type": "code",
   "execution_count": 35,
   "metadata": {},
   "outputs": [
    {
     "data": {
      "text/plain": [
       "-46.95396350233846"
      ]
     },
     "execution_count": 35,
     "metadata": {},
     "output_type": "execute_result"
    }
   ],
   "source": [
    "BSO_jetsList[1][0]['sumlogLH']"
   ]
  },
  {
   "cell_type": "code",
   "execution_count": 33,
   "metadata": {},
   "outputs": [],
   "source": [
    "for jetList in BSO_jetsList:\n",
    "    for i,BS_jet in enumerate(jetList):\n",
    "        BS_jet[\"sumlogLH\"] = sum(BS_jet['logLH'])\n",
    "    "
   ]
  },
  {
   "cell_type": "code",
   "execution_count": 23,
   "metadata": {},
   "outputs": [
    {
     "data": {
      "text/plain": [
       "27"
      ]
     },
     "execution_count": 23,
     "metadata": {},
     "output_type": "execute_result"
    }
   ],
   "source": [
    "len(BSO_jetsList[0])"
   ]
  },
  {
   "cell_type": "code",
   "execution_count": 36,
   "metadata": {},
   "outputs": [],
   "source": [
    "save=True\n",
    "outdir = \"../hierarchical-trellis/src/data/invMassGinkgo/\"\n",
    "if save:\n",
    "    for label in jetLabels:\n",
    "        out_filename = os.path.join(outdir, \"TruthBSGreedy_\"+label+\".pkl\")\n",
    "        with open(out_filename, \"wb\") as f:\n",
    "            pickle.dump(( gt_jets, BSO_jetsList, greedy_jets), f, protocol=2)"
   ]
  },
  {
   "cell_type": "code",
   "execution_count": null,
   "metadata": {},
   "outputs": [],
   "source": []
  },
  {
   "cell_type": "markdown",
   "metadata": {},
   "source": [
    "## Truth jets only"
   ]
  },
  {
   "cell_type": "code",
   "execution_count": 10,
   "metadata": {},
   "outputs": [],
   "source": [
    "Nstart = 50\n",
    "Nend = 250\n",
    "N_jets = 100"
   ]
  },
  {
   "cell_type": "code",
   "execution_count": 11,
   "metadata": {},
   "outputs": [
    {
     "name": "stderr",
     "output_type": "stream",
     "text": [
      "/Users/sebastianmacaluso/anaconda3/lib/python3.7/site-packages/numpy/lib/function_base.py:392: RuntimeWarning: Mean of empty slice.\n",
      "  avg = a.mean(axis)\n",
      "/Users/sebastianmacaluso/anaconda3/lib/python3.7/site-packages/numpy/core/_methods.py:85: RuntimeWarning: invalid value encountered in double_scalars\n",
      "  ret = ret.dtype.type(ret / rcount)\n",
      "2020-05-26 17:47:42,886:INFO:: TOTAL TIME = 101.08560585975647\n"
     ]
    }
   ],
   "source": [
    "jetType = \"50_leaves_train20000\"\n",
    "truthDict[jetType]  = jetClustering.appendTruthJetsOnly(Nstart, Nend, N_jets, truth = True, jetType = jetType)"
   ]
  },
  {
   "cell_type": "code",
   "execution_count": 12,
   "metadata": {},
   "outputs": [
    {
     "data": {
      "text/plain": [
       "200"
      ]
     },
     "execution_count": 12,
     "metadata": {},
     "output_type": "execute_result"
    }
   ],
   "source": [
    "len(truthDict[jetType][\"jetsList\"])"
   ]
  },
  {
   "cell_type": "code",
   "execution_count": 18,
   "metadata": {},
   "outputs": [],
   "source": [
    "root_dir = \"/Users/sebastianmacaluso/Documents/PrinceData/\"\n",
    "filename = \"invMassGinkgo/50_leaves_train20000/Truth/tree_100_truth_2\"\n",
    "filename = os.path.join(root_dir, filename)\n",
    "with open(filename + \".pkl\", \"rb\") as fd:\n",
    "    Truth  = pickle.load(fd, encoding='latin-1')"
   ]
  },
  {
   "cell_type": "code",
   "execution_count": 19,
   "metadata": {},
   "outputs": [
    {
     "data": {
      "text/plain": [
       "{'root_id': 0, 'tree': array([[ 1, 82],\n",
       "        [ 2, 11],\n",
       "        [ 3, 10],\n",
       "        [ 4,  9],\n",
       "        [ 5,  8],\n",
       "        [ 6,  7],\n",
       "        [-1, -1],\n",
       "        [-1, -1],\n",
       "        [-1, -1],\n",
       "        [-1, -1],\n",
       "        [-1, -1],\n",
       "        [12, 45],\n",
       "        [13, 44],\n",
       "        [14, 35],\n",
       "        [15, 30],\n",
       "        [16, 27],\n",
       "        [17, 26],\n",
       "        [18, 25],\n",
       "        [19, 24],\n",
       "        [20, 23],\n",
       "        [21, 22],\n",
       "        [-1, -1],\n",
       "        [-1, -1],\n",
       "        [-1, -1],\n",
       "        [-1, -1],\n",
       "        [-1, -1],\n",
       "        [-1, -1],\n",
       "        [28, 29],\n",
       "        [-1, -1],\n",
       "        [-1, -1],\n",
       "        [31, 34],\n",
       "        [32, 33],\n",
       "        [-1, -1],\n",
       "        [-1, -1],\n",
       "        [-1, -1],\n",
       "        [36, 43],\n",
       "        [37, 42],\n",
       "        [38, 41],\n",
       "        [39, 40],\n",
       "        [-1, -1],\n",
       "        [-1, -1],\n",
       "        [-1, -1],\n",
       "        [-1, -1],\n",
       "        [-1, -1],\n",
       "        [-1, -1],\n",
       "        [46, 73],\n",
       "        [47, 54],\n",
       "        [48, 53],\n",
       "        [49, 52],\n",
       "        [50, 51],\n",
       "        [-1, -1],\n",
       "        [-1, -1],\n",
       "        [-1, -1],\n",
       "        [-1, -1],\n",
       "        [55, 68],\n",
       "        [56, 67],\n",
       "        [57, 66],\n",
       "        [58, 65],\n",
       "        [59, 64],\n",
       "        [60, 63],\n",
       "        [61, 62],\n",
       "        [-1, -1],\n",
       "        [-1, -1],\n",
       "        [-1, -1],\n",
       "        [-1, -1],\n",
       "        [-1, -1],\n",
       "        [-1, -1],\n",
       "        [-1, -1],\n",
       "        [69, 72],\n",
       "        [70, 71],\n",
       "        [-1, -1],\n",
       "        [-1, -1],\n",
       "        [-1, -1],\n",
       "        [74, 81],\n",
       "        [75, 80],\n",
       "        [76, 79],\n",
       "        [77, 78],\n",
       "        [-1, -1],\n",
       "        [-1, -1],\n",
       "        [-1, -1],\n",
       "        [-1, -1],\n",
       "        [-1, -1],\n",
       "        [83, 94],\n",
       "        [84, 89],\n",
       "        [85, 88],\n",
       "        [86, 87],\n",
       "        [-1, -1],\n",
       "        [-1, -1],\n",
       "        [-1, -1],\n",
       "        [90, 93],\n",
       "        [91, 92],\n",
       "        [-1, -1],\n",
       "        [-1, -1],\n",
       "        [-1, -1],\n",
       "        [95, 98],\n",
       "        [96, 97],\n",
       "        [-1, -1],\n",
       "        [-1, -1],\n",
       "        [-1, -1]]), 'content': array([[4.01123422e+02, 2.30940108e+02, 2.30940108e+02, 2.30940108e+02],\n",
       "        [3.27451410e+02, 1.84125297e+02, 1.92635525e+02, 1.89000603e+02],\n",
       "        [9.60233592e+00, 3.60399595e+00, 6.08865586e+00, 6.29357539e+00],\n",
       "        [4.95764992e+00, 1.78150005e+00, 3.00316668e+00, 3.34231369e+00],\n",
       "        [2.89835878e+00, 7.19740392e-01, 1.91780336e+00, 1.95352011e+00],\n",
       "        [2.20361565e+00, 5.73853369e-01, 1.37116258e+00, 1.56407083e+00],\n",
       "        [1.71770652e+00, 4.03975758e-01, 1.09351818e+00, 1.23198715e+00],\n",
       "        [4.85909204e-01, 1.69877629e-01, 2.77644444e-01, 3.32083723e-01],\n",
       "        [6.94742988e-01, 1.45886989e-01, 5.46640684e-01, 3.89449193e-01],\n",
       "        [2.05929101e+00, 1.06175961e+00, 1.08536325e+00, 1.38879348e+00],\n",
       "        [4.64468619e+00, 1.82249596e+00, 3.08548929e+00, 2.95126182e+00],\n",
       "        [3.17849075e+02, 1.80521301e+02, 1.86546870e+02, 1.82707028e+02],\n",
       "        [2.10735894e+02, 1.23777747e+02, 1.23754541e+02, 1.17202461e+02],\n",
       "        [2.02404865e+02, 1.18528820e+02, 1.18984106e+02, 1.12833284e+02],\n",
       "        [9.69624824e+01, 5.58928584e+01, 5.67961789e+01, 5.51645737e+01],\n",
       "        [6.05454547e+01, 3.53645326e+01, 3.51466728e+01, 3.43168861e+01],\n",
       "        [3.41797024e+01, 2.00501072e+01, 1.98796014e+01, 1.92518973e+01],\n",
       "        [2.55181098e+01, 1.49850245e+01, 1.47681337e+01, 1.44321014e+01],\n",
       "        [2.50528317e+01, 1.47009571e+01, 1.45044002e+01, 1.41748388e+01],\n",
       "        [2.17796054e+01, 1.27648337e+01, 1.26331465e+01, 1.23137185e+01],\n",
       "        [1.94363202e+01, 1.14153758e+01, 1.12776620e+01, 1.09603722e+01],\n",
       "        [1.68237463e+01, 9.90506987e+00, 9.73040856e+00, 9.49781515e+00],\n",
       "        [2.61257389e+00, 1.51030591e+00, 1.54725346e+00, 1.46255707e+00],\n",
       "        [2.34328620e+00, 1.34945847e+00, 1.35548504e+00, 1.35334680e+00],\n",
       "        [3.27322606e+00, 1.93612327e+00, 1.87125359e+00, 1.86112024e+00],\n",
       "        [4.65278442e-01, 2.84067650e-01, 2.63733721e-01, 2.57262735e-01],\n",
       "        [8.66159349e+00, 5.06508316e+00, 5.11146814e+00, 4.81979641e+00],\n",
       "        [2.63657522e+01, 1.53144254e+01, 1.52670714e+01, 1.50649888e+01],\n",
       "        [1.57336179e+01, 9.22758125e+00, 8.87220896e+00, 9.14407121e+00],\n",
       "        [1.06321333e+01, 6.08684352e+00, 6.39486185e+00, 5.92091700e+00],\n",
       "        [3.64170355e+01, 2.05283303e+01, 2.16495106e+01, 2.08476920e+01],\n",
       "        [1.78603444e+01, 1.03958028e+01, 1.03840746e+01, 1.01365088e+01],\n",
       "        [9.63517877e+00, 5.55261043e+00, 5.74963420e+00, 5.37301138e+00],\n",
       "        [8.22516559e+00, 4.84319241e+00, 4.63444039e+00, 4.76349747e+00],\n",
       "        [1.85566921e+01, 1.01325280e+01, 1.12654366e+01, 1.07111837e+01],\n",
       "        [1.05442382e+02, 6.26359611e+01, 6.21879275e+01, 5.76687105e+01],\n",
       "        [6.98967138e+01, 4.17840426e+01, 4.13454850e+01, 3.78142608e+01],\n",
       "        [5.80679426e+01, 3.47385831e+01, 3.43537704e+01, 3.13817003e+01],\n",
       "        [5.29735780e+01, 3.16850216e+01, 3.13486769e+01, 2.86253039e+01],\n",
       "        [4.18243512e+01, 2.50722956e+01, 2.47443641e+01, 2.25458841e+01],\n",
       "        [1.11492269e+01, 6.61272600e+00, 6.60431279e+00, 6.07941982e+00],\n",
       "        [5.09436021e+00, 3.05355894e+00, 3.00509099e+00, 2.75639405e+00],\n",
       "        [1.18287712e+01, 7.04545952e+00, 6.99171453e+00, 6.43256052e+00],\n",
       "        [3.55456684e+01, 2.08519185e+01, 2.08424425e+01, 1.98544497e+01],\n",
       "        [8.33103186e+00, 5.24892835e+00, 4.77043637e+00, 4.36917796e+00],\n",
       "        [1.07113180e+02, 5.67435542e+01, 6.27923280e+01, 6.55045665e+01],\n",
       "        [6.96985172e+01, 3.71837965e+01, 4.08963273e+01, 4.23228252e+01],\n",
       "        [2.93602773e+01, 1.59529060e+01, 1.77030701e+01, 1.71179399e+01],\n",
       "        [2.31913078e+01, 1.26063939e+01, 1.38096553e+01, 1.36982964e+01],\n",
       "        [1.56037986e+01, 8.47928809e+00, 9.32451813e+00, 9.18233347e+00],\n",
       "        [1.05128983e+01, 5.66934035e+00, 6.42116539e+00, 6.09303979e+00],\n",
       "        [5.09090116e+00, 2.80994818e+00, 2.90335323e+00, 3.08929417e+00],\n",
       "        [7.58750913e+00, 4.12710579e+00, 4.48513713e+00, 4.51596293e+00],\n",
       "        [6.16896873e+00, 3.34651169e+00, 3.89341431e+00, 3.41964306e+00],\n",
       "        [4.03382448e+01, 2.12308931e+01, 2.31932601e+01, 2.52048883e+01],\n",
       "        [2.64894075e+01, 1.42877803e+01, 1.51999791e+01, 1.62970178e+01],\n",
       "        [2.07430692e+01, 1.12437652e+01, 1.19882733e+01, 1.26329585e+01],\n",
       "        [2.05747572e+01, 1.11486285e+01, 1.18935286e+01, 1.25317412e+01],\n",
       "        [1.45274195e+01, 7.98250931e+00, 8.28072809e+00, 8.85892139e+00],\n",
       "        [1.29152416e+01, 7.00309973e+00, 7.39027795e+00, 7.93939280e+00],\n",
       "        [1.28013227e+01, 6.93972631e+00, 7.32544023e+00, 7.87042630e+00],\n",
       "        [6.18714110e+00, 3.40152634e+00, 3.52045410e+00, 3.77997118e+00],\n",
       "        [6.61418049e+00, 3.53819934e+00, 3.80498547e+00, 4.09045442e+00],\n",
       "        [1.13918001e-01, 6.33729797e-02, 6.48372514e-02, 6.89659947e-02],\n",
       "        [1.61217793e+00, 9.79409573e-01, 8.90450140e-01, 9.19528588e-01],\n",
       "        [6.04733686e+00, 3.16611878e+00, 3.61280006e+00, 3.67281929e+00],\n",
       "        [1.68313163e-01, 9.51373050e-02, 9.47453243e-02, 1.01218005e-01],\n",
       "        [5.74633954e+00, 3.04401575e+00, 3.21170653e+00, 3.66406011e+00],\n",
       "        [1.38488359e+01, 6.94311205e+00, 7.99328024e+00, 8.90786958e+00],\n",
       "        [1.02135088e+01, 5.14421359e+00, 5.85513070e+00, 6.58772607e+00],\n",
       "        [6.52814670e+00, 3.16317716e+00, 3.72245395e+00, 4.33032162e+00],\n",
       "        [3.68536214e+00, 1.98103643e+00, 2.13267674e+00, 2.25740445e+00],\n",
       "        [3.63532671e+00, 1.79889828e+00, 2.13814934e+00, 2.32014328e+00],\n",
       "        [3.74146587e+01, 1.95597555e+01, 2.18959982e+01, 2.31817386e+01],\n",
       "        [3.31930364e+01, 1.73276129e+01, 1.94907756e+01, 2.05269536e+01],\n",
       "        [2.76006018e+01, 1.43576073e+01, 1.61980923e+01, 1.71206279e+01],\n",
       "        [2.29647673e+01, 1.19924536e+01, 1.34777827e+01, 1.42062574e+01],\n",
       "        [1.08752632e+01, 5.74311055e+00, 6.33646658e+00, 6.71688575e+00],\n",
       "        [1.20895041e+01, 6.24934302e+00, 7.14131615e+00, 7.48937168e+00],\n",
       "        [4.63583342e+00, 2.36515321e+00, 2.72030897e+00, 2.91436979e+00],\n",
       "        [5.59243463e+00, 2.97000556e+00, 3.29268332e+00, 3.40632579e+00],\n",
       "        [4.22162226e+00, 2.23214260e+00, 2.40522257e+00, 2.65478496e+00],\n",
       "        [7.36720183e+01, 4.68148145e+01, 3.83045859e+01, 4.19395084e+01],\n",
       "        [6.20698888e+01, 3.91660700e+01, 3.19944725e+01, 3.59320692e+01],\n",
       "        [1.21062862e+01, 7.59520357e+00, 6.19070747e+00, 7.06238027e+00],\n",
       "        [7.26627381e+00, 4.63614432e+00, 3.75546522e+00, 4.10683456e+00],\n",
       "        [2.36670601e+00, 1.48764036e+00, 1.18341185e+00, 1.37973836e+00],\n",
       "        [4.89956780e+00, 3.14850396e+00, 2.57205337e+00, 2.72709620e+00],\n",
       "        [4.84001192e+00, 2.95905898e+00, 2.43524203e+00, 2.95554545e+00],\n",
       "        [4.99636007e+01, 3.15708653e+01, 2.58037640e+01, 2.88696878e+01],\n",
       "        [2.26902138e+01, 1.43909403e+01, 1.17349744e+01, 1.30348085e+01],\n",
       "        [1.32041208e+01, 8.44994537e+00, 6.72977171e+00, 7.59299070e+00],\n",
       "        [9.48609301e+00, 5.94099497e+00, 5.00520271e+00, 5.44181778e+00],\n",
       "        [2.72733869e+01, 1.71799249e+01, 1.40687896e+01, 1.58348793e+01],\n",
       "        [1.16021324e+01, 7.64874627e+00, 6.31011492e+00, 6.00744085e+00],\n",
       "        [7.19433123e+00, 4.74290213e+00, 3.94166842e+00, 3.68946186e+00],\n",
       "        [5.36847694e+00, 3.58529842e+00, 2.94925912e+00, 2.68787647e+00],\n",
       "        [1.82585429e+00, 1.15760371e+00, 9.92409303e-01, 1.00158539e+00],\n",
       "        [4.40780132e+00, 2.90584426e+00, 2.36844660e+00, 2.31797909e+00]]), 'LambdaRoot': tensor(1.5000), 'Lambda': tensor(1.5000), 'Delta_0': tensor(900.), 'pt_cut': 0.09000000357627869, 'algorithm': 'truth', 'deltas': array([9.00000000e+02, 4.92627747e+02, 2.53524661e+00, 1.21447921e+00,\n",
       "        3.88246775e-01, 2.00209856e-01, 0.00000000e+00, 0.00000000e+00,\n",
       "        0.00000000e+00, 0.00000000e+00, 0.00000000e+00, 2.58501678e+02,\n",
       "        3.70832062e+01, 3.00805664e+01, 8.77525425e+00, 2.16463923e+00,\n",
       "        4.11158621e-01, 2.39642695e-01, 2.22554892e-01, 1.86179951e-01,\n",
       "        1.44318104e-01, 0.00000000e+00, 0.00000000e+00, 0.00000000e+00,\n",
       "        0.00000000e+00, 0.00000000e+00, 0.00000000e+00, 5.83910704e-01,\n",
       "        0.00000000e+00, 0.00000000e+00, 1.46055710e+00, 3.41367215e-01,\n",
       "        0.00000000e+00, 0.00000000e+00, 0.00000000e+00, 1.81383479e+00,\n",
       "        2.76933521e-01, 1.24141879e-01, 1.11810878e-01, 0.00000000e+00,\n",
       "        0.00000000e+00, 0.00000000e+00, 0.00000000e+00, 0.00000000e+00,\n",
       "        0.00000000e+00, 1.96777267e+01, 1.15174541e+01, 1.10811579e+00,\n",
       "        5.65686345e-01, 3.18318844e-01, 0.00000000e+00, 0.00000000e+00,\n",
       "        0.00000000e+00, 0.00000000e+00, 3.20946217e+00, 9.15888608e-01,\n",
       "        5.42326748e-01, 5.28154433e-01, 2.74516523e-01, 1.09892696e-01,\n",
       "        1.08378135e-01, 0.00000000e+00, 0.00000000e+00, 0.00000000e+00,\n",
       "        0.00000000e+00, 0.00000000e+00, 0.00000000e+00, 0.00000000e+00,\n",
       "        3.40781510e-01, 1.72139168e-01, 0.00000000e+00, 0.00000000e+00,\n",
       "        0.00000000e+00, 4.44907308e-01, 2.85337627e-01, 1.58237964e-01,\n",
       "        9.32182744e-02, 0.00000000e+00, 0.00000000e+00, 0.00000000e+00,\n",
       "        0.00000000e+00, 0.00000000e+00, 9.77576733e+00, 3.93019152e+00,\n",
       "        6.72974527e-01, 3.35292429e-01, 0.00000000e+00, 0.00000000e+00,\n",
       "        0.00000000e+00, 3.48750234e-01, 1.30783141e-01, 0.00000000e+00,\n",
       "        0.00000000e+00, 0.00000000e+00, 1.99260816e-01, 1.14403047e-01,\n",
       "        0.00000000e+00, 0.00000000e+00, 0.00000000e+00]), 'draws': array([None, tensor(0.5474), tensor(0.0051), tensor(0.4790),\n",
       "        tensor(0.3197), tensor(0.5157), tensor(0.3683), tensor(0.6427),\n",
       "        tensor(0.3532), tensor(0.0287), tensor(0.0892), tensor(0.6090),\n",
       "        tensor(0.1435), tensor(0.8112), tensor(0.2917), tensor(0.2467),\n",
       "        tensor(0.1899), tensor(0.5828), tensor(0.9287), tensor(0.8366),\n",
       "        tensor(0.7752), tensor(0.2681), tensor(0.3412), tensor(0.4000),\n",
       "        tensor(0.0475), tensor(0.1583), tensor(0.4603), tensor(0.8475),\n",
       "        tensor(0.1171), tensor(0.1625), tensor(0.6570), tensor(0.2337),\n",
       "        tensor(0.2274), tensor(0.2986), tensor(0.1108), tensor(0.2851),\n",
       "        tensor(0.1527), tensor(0.4483), tensor(0.9007), tensor(0.5000),\n",
       "        tensor(0.0856), tensor(0.0117), tensor(0.6422), tensor(0.1269),\n",
       "        tensor(0.0220), tensor(0.1972), tensor(0.5853), tensor(0.0962),\n",
       "        tensor(0.5105), tensor(0.5627), tensor(0.0726), tensor(0.2841),\n",
       "        tensor(0.7622), tensor(0.0487), tensor(0.5856), tensor(0.2854),\n",
       "        tensor(0.5921), tensor(0.9739), tensor(0.5198), tensor(0.4003),\n",
       "        tensor(0.9862), tensor(0.2635), tensor(0.7322), tensor(0.1896),\n",
       "        tensor(0.0389), tensor(0.0985), tensor(0.6015), tensor(0.2875),\n",
       "        tensor(0.4894), tensor(0.5051), tensor(0.0155), tensor(0.1000),\n",
       "        tensor(0.8703), tensor(0.4096), tensor(0.6413), tensor(0.5546),\n",
       "        tensor(0.5891), tensor(0.2217), tensor(0.4880), tensor(0.3940),\n",
       "        tensor(0.5147), tensor(0.3771), tensor(0.1605), tensor(0.4020),\n",
       "        tensor(0.1712), tensor(0.4982), tensor(0.2508), tensor(0.4808),\n",
       "        tensor(0.0693), tensor(0.2582), tensor(0.3750), tensor(0.0298),\n",
       "        tensor(0.2804), tensor(0.2589), tensor(0.1522), tensor(0.5741),\n",
       "        tensor(0.3791), tensor(0.3343), tensor(0.1894)], dtype=object), 'leaves': array([[ 1.71770652,  0.40397576,  1.09351818,  1.23198715],\n",
       "        [ 0.4859092 ,  0.16987763,  0.27764444,  0.33208372],\n",
       "        [ 0.69474299,  0.14588699,  0.54664068,  0.38944919],\n",
       "        [ 2.05929101,  1.06175961,  1.08536325,  1.38879348],\n",
       "        [ 4.64468619,  1.82249596,  3.08548929,  2.95126182],\n",
       "        [16.82374629,  9.90506987,  9.73040856,  9.49781515],\n",
       "        [ 2.61257389,  1.51030591,  1.54725346,  1.46255707],\n",
       "        [ 2.3432862 ,  1.34945847,  1.35548504,  1.3533468 ],\n",
       "        [ 3.27322606,  1.93612327,  1.87125359,  1.86112024],\n",
       "        [ 0.46527844,  0.28406765,  0.26373372,  0.25726274],\n",
       "        [ 8.66159349,  5.06508316,  5.11146814,  4.81979641],\n",
       "        [15.73361791,  9.22758125,  8.87220896,  9.14407121],\n",
       "        [10.6321333 ,  6.08684352,  6.39486185,  5.920917  ],\n",
       "        [ 9.63517877,  5.55261043,  5.7496342 ,  5.37301138],\n",
       "        [ 8.22516559,  4.84319241,  4.63444039,  4.76349747],\n",
       "        [18.55669207, 10.132528  , 11.26543657, 10.71118371],\n",
       "        [41.82435119, 25.07229556, 24.7443641 , 22.54588412],\n",
       "        [11.14922686,  6.612726  ,  6.60431279,  6.07941982],\n",
       "        [ 5.09436021,  3.05355894,  3.00509099,  2.75639405],\n",
       "        [11.82877123,  7.04545952,  6.99171453,  6.43256052],\n",
       "        [35.54566838, 20.85191852, 20.84244253, 19.85444968],\n",
       "        [ 8.33103186,  5.24892835,  4.77043637,  4.36917796],\n",
       "        [10.51289829,  5.66934035,  6.42116539,  6.09303979],\n",
       "        [ 5.09090116,  2.80994818,  2.90335323,  3.08929417],\n",
       "        [ 7.58750913,  4.12710579,  4.48513713,  4.51596293],\n",
       "        [ 6.16896873,  3.34651169,  3.89341431,  3.41964306],\n",
       "        [ 6.1871411 ,  3.40152634,  3.5204541 ,  3.77997118],\n",
       "        [ 6.61418049,  3.53819934,  3.80498547,  4.09045442],\n",
       "        [ 0.113918  ,  0.06337298,  0.06483725,  0.06896599],\n",
       "        [ 1.61217793,  0.97940957,  0.89045014,  0.91952859],\n",
       "        [ 6.04733686,  3.16611878,  3.61280006,  3.67281929],\n",
       "        [ 0.16831316,  0.0951373 ,  0.09474532,  0.10121801],\n",
       "        [ 5.74633954,  3.04401575,  3.21170653,  3.66406011],\n",
       "        [ 6.5281467 ,  3.16317716,  3.72245395,  4.33032162],\n",
       "        [ 3.68536214,  1.98103643,  2.13267674,  2.25740445],\n",
       "        [ 3.63532671,  1.79889828,  2.13814934,  2.32014328],\n",
       "        [10.87526322,  5.74311055,  6.33646658,  6.71688575],\n",
       "        [12.08950411,  6.24934302,  7.14131615,  7.48937168],\n",
       "        [ 4.63583342,  2.36515321,  2.72030897,  2.91436979],\n",
       "        [ 5.59243463,  2.97000556,  3.29268332,  3.40632579],\n",
       "        [ 4.22162226,  2.2321426 ,  2.40522257,  2.65478496],\n",
       "        [ 2.36670601,  1.48764036,  1.18341185,  1.37973836],\n",
       "        [ 4.8995678 ,  3.14850396,  2.57205337,  2.7270962 ],\n",
       "        [ 4.84001192,  2.95905898,  2.43524203,  2.95554545],\n",
       "        [13.20412081,  8.44994537,  6.72977171,  7.5929907 ],\n",
       "        [ 9.48609301,  5.94099497,  5.00520271,  5.44181778],\n",
       "        [27.27338689, 17.17992492, 14.06878963, 15.83487933],\n",
       "        [ 5.36847694,  3.58529842,  2.94925912,  2.68787647],\n",
       "        [ 1.82585429,  1.15760371,  0.9924093 ,  1.00158539],\n",
       "        [ 4.40780132,  2.90584426,  2.3684466 ,  2.31797909]]), 'M_Hard': 30.0, 'logLH': array([-13.18876743, -11.92583752,  -4.11386108,  -3.10442781,\n",
       "         -1.46065342,  -3.45078802,   0.        ,   0.        ,\n",
       "          0.        ,   0.        ,   0.        , -11.88391209,\n",
       "         -7.62674427,  -7.33458138,  -5.54146767,  -2.93232012,\n",
       "         -1.60892272,  -1.58502984,  -1.37284899,  -1.10228324,\n",
       "         -3.02258778,   0.        ,   0.        ,   0.        ,\n",
       "          0.        ,   0.        ,   0.        ,  -5.1817522 ,\n",
       "          0.        ,   0.        ,  -3.57833958,  -4.26387978,\n",
       "          0.        ,   0.        ,   0.        ,  -4.15053558,\n",
       "         -1.02061236,  -0.88526917,  -2.73648238,   0.        ,\n",
       "          0.        ,   0.        ,   0.        ,   0.        ,\n",
       "          0.        ,  -5.76966572,  -5.66726208,  -2.7430582 ,\n",
       "         -1.91705883,  -4.1507535 ,   0.        ,   0.        ,\n",
       "          0.        ,   0.        ,  -3.18146062,  -2.48535585,\n",
       "         -2.46950912,  -1.80013371,  -0.95478165,  -0.89167023,\n",
       "         -2.70473099,   0.        ,   0.        ,   0.        ,\n",
       "          0.        ,   0.        ,   0.        ,   0.        ,\n",
       "         -1.31060565,  -3.24537182,   0.        ,   0.        ,\n",
       "          0.        ,  -1.77319384,  -1.19906247,  -0.66059184,\n",
       "         -2.56179118,   0.        ,   0.        ,   0.        ,\n",
       "          0.        ,   0.        ,  -4.59573078,  -3.52850533,\n",
       "         -2.07549429,  -4.23465538,   0.        ,   0.        ,\n",
       "          0.        ,  -1.20880198,  -2.90681314,   0.        ,\n",
       "          0.        ,   0.        ,  -0.86866832,  -2.76027513,\n",
       "          0.        ,   0.        ,   0.        ]), 'dij': [[-13.188767433166504,\n",
       "   1.4258180857265395e-07,\n",
       "   0.010124815582639167,\n",
       "   37.04536535861551],\n",
       "  [-11.925837516784668,\n",
       "   6.907446800498988e-07,\n",
       "   0.04654767774311675,\n",
       "   2.3302008141836477],\n",
       "  [-4.113861083984375,\n",
       "   0.00043332174665640155,\n",
       "   0.00556460335320824,\n",
       "   0.06784783181569577],\n",
       "  [-3.1044278144836426,\n",
       "   0.021914113359166543,\n",
       "   0.09195153079157227,\n",
       "   0.21198017174280978],\n",
       "  [-1.4606534242630005,\n",
       "   0.02433104611717652,\n",
       "   0.05375687973730033,\n",
       "   0.01720752617937368],\n",
       "  [-3.4507880210876465,\n",
       "   0.013697264392466739,\n",
       "   0.018614286833513582,\n",
       "   0.0019720877566278337],\n",
       "  [-11.883912086486816,\n",
       "   2.0886027951866658e-07,\n",
       "   0.006398667982897329,\n",
       "   45.8317865749913],\n",
       "  [-7.626744270324707,\n",
       "   1.1698835206047574e-07,\n",
       "   0.0032998083931559774,\n",
       "   0.16600779007586583],\n",
       "  [-7.33458137512207,\n",
       "   1.0400907057436117e-07,\n",
       "   0.0008102932680128032,\n",
       "   5.145214416630453],\n",
       "  [-5.541467666625977,\n",
       "   2.592378282408371e-07,\n",
       "   0.0006444493687225798,\n",
       "   0.5736331839706469],\n",
       "  [-2.9323201179504395,\n",
       "   1.3285965522304575e-07,\n",
       "   0.00010591642805078368,\n",
       "   0.04952812041166399],\n",
       "  [-1.6089227199554443,\n",
       "   4.946309177063583e-07,\n",
       "   0.00021894774909602245,\n",
       "   0.011337590441798157],\n",
       "  [-1.5850298404693604,\n",
       "   2.0548407259526766e-06,\n",
       "   0.0008763808676593536,\n",
       "   0.00013167614277377252],\n",
       "  [-1.3728489875793457,\n",
       "   3.3940824436547865e-07,\n",
       "   0.0001094718425895949,\n",
       "   0.0007936887391106441],\n",
       "  [-1.102283239364624,\n",
       "   1.2423575289084975e-06,\n",
       "   0.0003199026717287343,\n",
       "   0.001170324853164813],\n",
       "  [-3.022587776184082,\n",
       "   1.7010072748984553e-06,\n",
       "   0.0003279393354435327,\n",
       "   0.0015331220406430745],\n",
       "  [-5.1817522048950195,\n",
       "   1.3413886713930687e-05,\n",
       "   0.002198057794308991,\n",
       "   0.17132524549307493],\n",
       "  [-3.5783395767211914,\n",
       "   8.939858674222286e-06,\n",
       "   0.002052396524997428,\n",
       "   0.4431159436679327],\n",
       "  [-4.263879776000977,\n",
       "   2.7054149557794997e-05,\n",
       "   0.001728483555788646,\n",
       "   0.07766863159090062],\n",
       "  [-4.150535583496094,\n",
       "   1.3310531997056428e-07,\n",
       "   0.00045992617843428556,\n",
       "   0.39977239510532636],\n",
       "  [-1.020612359046936,\n",
       "   7.769031830511391e-09,\n",
       "   1.854429593798751e-05,\n",
       "   0.0018270317319692793],\n",
       "  [-0.8852691650390625,\n",
       "   2.8635370848198268e-09,\n",
       "   5.688932240663279e-06,\n",
       "   0.00010441917962163246],\n",
       "  [-2.7364823818206787,\n",
       "   6.412282169992382e-08,\n",
       "   7.957023769687996e-05,\n",
       "   0.006950069781098302],\n",
       "  [-5.769665718078613,\n",
       "   8.812807743424726e-08,\n",
       "   0.00026924399422144325,\n",
       "   0.23209337710555775],\n",
       "  [-5.667262077331543,\n",
       "   2.8588449297006884e-06,\n",
       "   0.002826477475411933,\n",
       "   1.6051393178681048],\n",
       "  [-2.743058204650879,\n",
       "   7.422521756956029e-06,\n",
       "   0.00259511954369863,\n",
       "   0.06840168210923558],\n",
       "  [-1.9170588254928589,\n",
       "   5.476796685580877e-07,\n",
       "   8.699615767911379e-05,\n",
       "   0.0032318600423363536],\n",
       "  [-4.150753498077393,\n",
       "   3.46855477209522e-05,\n",
       "   0.0025449752344603505,\n",
       "   0.041547404770185634],\n",
       "  [-3.1814606189727783,\n",
       "   5.158524379759258e-06,\n",
       "   0.0022448868009052017,\n",
       "   0.2516503151676681],\n",
       "  [-2.485355854034424,\n",
       "   4.936642036329846e-06,\n",
       "   0.0013335891846390235,\n",
       "   0.026113130813055937],\n",
       "  [-2.4695091247558594,\n",
       "   3.1498675169708577e-06,\n",
       "   0.0008370708100258328,\n",
       "   1.5090531148692702e-05],\n",
       "  [-1.8001337051391602,\n",
       "   1.0812304406343669e-05,\n",
       "   0.0014303696161172869,\n",
       "   0.033008113885075505],\n",
       "  [-0.9547816514968872,\n",
       "   6.397788465637385e-05,\n",
       "   0.006631922829257351,\n",
       "   0.011620087538604978],\n",
       "  [-0.8916702270507812,\n",
       "   2.942412513207389e-06,\n",
       "   0.0002996019615395411,\n",
       "   2.4627292372084123e-06],\n",
       "  [-2.704730987548828,\n",
       "   1.1698669012674107e-05,\n",
       "   0.00031582626427831403,\n",
       "   0.0075684538235365134],\n",
       "  [-1.3106056451797485,\n",
       "   5.697789416179185e-06,\n",
       "   0.0003461150036875695,\n",
       "   0.0027023682224080856],\n",
       "  [-3.2453718185424805,\n",
       "   0.00022906750859833964,\n",
       "   0.005466089792785883,\n",
       "   0.04631316983436357],\n",
       "  [-1.7731938362121582,\n",
       "   6.748728717393358e-07,\n",
       "   0.00045900567471203593,\n",
       "   0.004942369394968447],\n",
       "  [-1.199062466621399,\n",
       "   5.285950833177495e-07,\n",
       "   0.00024765688335419796,\n",
       "   0.004869602127020039],\n",
       "  [-0.6605918407440186,\n",
       "   7.545506489228668e-07,\n",
       "   0.00024558327520475895,\n",
       "   0.0031911165946618253],\n",
       "  [-2.561791181564331,\n",
       "   2.1438510810450183e-06,\n",
       "   0.0001930595452121864,\n",
       "   0.014119241386402803],\n",
       "  [-4.595730781555176,\n",
       "   2.091451242114597e-06,\n",
       "   0.005349152812393024,\n",
       "   0.5259333570914632],\n",
       "  [-3.528505325317383,\n",
       "   4.339975695974383e-08,\n",
       "   7.21544296391843e-05,\n",
       "   0.006927689388689818],\n",
       "  [-2.0754942893981934,\n",
       "   8.330320864267441e-05,\n",
       "   0.002965373737437084,\n",
       "   0.04355076497815152],\n",
       "  [-4.234655380249023,\n",
       "   8.96742455067806e-05,\n",
       "   0.0014821839685614322,\n",
       "   0.005355927282053674],\n",
       "  [-1.2088019847869873,\n",
       "   1.1768304479523534e-07,\n",
       "   5.8027233640909474e-05,\n",
       "   0.020008300115101737],\n",
       "  [-2.906813144683838,\n",
       "   4.382244421973673e-06,\n",
       "   0.0005113702540484939,\n",
       "   0.03085990379243798],\n",
       "  [-0.8686683177947998,\n",
       "   7.388273286077654e-06,\n",
       "   0.000280989853395139,\n",
       "   0.0039488825319167874],\n",
       "  [-2.76027512550354,\n",
       "   0.00016137020812545148,\n",
       "   0.0034779304615146977,\n",
       "   0.008085919043523328]], 'ConstPhi': [1.3398107376872581,\n",
       "  1.2344709823607194,\n",
       "  1.3638165924298606,\n",
       "  1.0947509012927101,\n",
       "  1.1968735142999545,\n",
       "  1.0386860159256335,\n",
       "  1.046642049190448,\n",
       "  1.0482987718257344,\n",
       "  1.0366479935448367,\n",
       "  1.022668251100589,\n",
       "  1.0416469202727163,\n",
       "  1.0403712201343764,\n",
       "  1.0508466331057893,\n",
       "  1.0479967597764202,\n",
       "  1.0386334237946795,\n",
       "  1.0710054858460225,\n",
       "  1.0307692309736805,\n",
       "  1.035457870994894,\n",
       "  1.0308182021999515,\n",
       "  1.03360321447888,\n",
       "  1.0402706772061414,\n",
       "  1.0085770787725734,\n",
       "  1.0762247646859142,\n",
       "  1.0664534207752867,\n",
       "  1.072622076646567,\n",
       "  1.0737487708221622,\n",
       "  1.0681270134048557,\n",
       "  1.0795878382656618,\n",
       "  1.0631264830948108,\n",
       "  1.0248751602912942,\n",
       "  1.088482085037695,\n",
       "  1.0563280027770707,\n",
       "  1.0836475673910775,\n",
       "  1.1195894426102,\n",
       "  1.0775681918398616,\n",
       "  1.1112867313649537,\n",
       "  1.0849305825805784,\n",
       "  1.0937021373814477,\n",
       "  1.0990304404690825,\n",
       "  1.082598400959778,\n",
       "  1.0844215638432497,\n",
       "  1.0096339497017879,\n",
       "  0.9996347955022749,\n",
       "  1.0220553100158423,\n",
       "  1.0015203132512627,\n",
       "  1.0112737117959574,\n",
       "  1.0086701870389563,\n",
       "  0.9819799514195392,\n",
       "  1.0057465402979504,\n",
       "  0.9879457324066377], 'PhiDelta': [-2.066751756437742,\n",
       "  1.0497537301989581,\n",
       "  -1.4405454064403147,\n",
       "  -1.1837399147097454,\n",
       "  -1.847170906067356,\n",
       "  -1.758602651782,\n",
       "  -2.1449936782619354,\n",
       "  -2.099140444256824,\n",
       "  0.8989972795275446,\n",
       "  -2.122088823091452,\n",
       "  -2.115655978146853,\n",
       "  -2.1027118089545476,\n",
       "  -2.1011179188984355,\n",
       "  -2.100213169844595,\n",
       "  -2.1030066788472794,\n",
       "  -2.1043612338170674,\n",
       "  -2.1226450172352305,\n",
       "  1.932264164544504,\n",
       "  -2.036943717929213,\n",
       "  -2.118069154985013,\n",
       "  -2.1104143125756183,\n",
       "  -2.109739177542045,\n",
       "  -2.11252106776514,\n",
       "  -2.0704930406106508,\n",
       "  1.1226426150933326,\n",
       "  -2.0690090932078413,\n",
       "  -2.068185510314525,\n",
       "  -2.0560984966613134,\n",
       "  -2.09715741926184,\n",
       "  -2.071155672560412,\n",
       "  -2.067219107478342,\n",
       "  -2.0873275805862206,\n",
       "  -2.0604360348889172,\n",
       "  -2.0674633568480383,\n",
       "  1.2610500693370785,\n",
       "  -2.0412581957510714,\n",
       "  -1.9648820218956071,\n",
       "  -2.0511394656749133,\n",
       "  -2.0482874895679895,\n",
       "  -2.054440480235117,\n",
       "  1.1757955702768645,\n",
       "  -2.129039002430244,\n",
       "  1.006238952448312,\n",
       "  -2.175606618478202,\n",
       "  0.9904062504559232,\n",
       "  1.0241305483086292,\n",
       "  -2.164413247588849,\n",
       "  -2.1536562347328507,\n",
       "  -2.171575832340159], 'PhiDeltaRel': [3.1151628911491738,\n",
       "  0.008806542732036293,\n",
       "  2.6522862333285673,\n",
       "  2.4095618225305397,\n",
       "  3.1745638895940274,\n",
       "  3.0746427471897677,\n",
       "  3.1992726992599048,\n",
       "  3.1388635467167543,\n",
       "  0.14203312262258627,\n",
       "  3.1699708544486267,\n",
       "  3.1578068580945664,\n",
       "  3.1429934527410532,\n",
       "  3.1409366442071813,\n",
       "  3.1403537450682624,\n",
       "  3.14367339165815,\n",
       "  3.144112380170509,\n",
       "  3.167225202918689,\n",
       "  0.8747693911922081,\n",
       "  3.0806157226654682,\n",
       "  3.1528470911198108,\n",
       "  3.1424126003654558,\n",
       "  3.141410909465171,\n",
       "  3.14427492787755,\n",
       "  3.1541234533441624,\n",
       "  0.04192931529887822,\n",
       "  3.1420821250577835,\n",
       "  3.141078876730048,\n",
       "  3.1291238094663667,\n",
       "  3.18347119823161,\n",
       "  3.147301116842417,\n",
       "  3.1412969279408234,\n",
       "  3.1615520424254893,\n",
       "  3.128789377804522,\n",
       "  3.141397402770472,\n",
       "  0.18701927193238954,\n",
       "  3.1473276026155075,\n",
       "  3.0691009582758806,\n",
       "  3.1402281803662317,\n",
       "  3.137971432311425,\n",
       "  3.145566533701901,\n",
       "  0.08625733830600169,\n",
       "  3.133757347334466,\n",
       "  0.0016554257819627605,\n",
       "  3.186096266579746,\n",
       "  0.012471426850726663,\n",
       "  0.016863734062524616,\n",
       "  3.1699965110556967,\n",
       "  3.141599730257104,\n",
       "  3.1595179573812695]}"
      ]
     },
     "execution_count": 19,
     "metadata": {},
     "output_type": "execute_result"
    }
   ],
   "source": [
    "Truth[0]"
   ]
  },
  {
   "cell_type": "code",
   "execution_count": null,
   "metadata": {},
   "outputs": [],
   "source": []
  }
 ],
 "metadata": {
  "kernelspec": {
   "display_name": "Python 3",
   "language": "python",
   "name": "python3"
  },
  "language_info": {
   "codemirror_mode": {
    "name": "ipython",
    "version": 3
   },
   "file_extension": ".py",
   "mimetype": "text/x-python",
   "name": "python",
   "nbconvert_exporter": "python",
   "pygments_lexer": "ipython3",
   "version": "3.7.3"
  }
 },
 "nbformat": 4,
 "nbformat_minor": 1
}
